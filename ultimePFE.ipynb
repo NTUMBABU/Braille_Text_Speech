{
 "cells": [
  {
   "cell_type": "markdown",
   "id": "b49ba705-dc3a-4605-884f-8fc308c0e870",
   "metadata": {},
   "source": [
    "IMPORTATION DES MODULE"
   ]
  },
  {
   "cell_type": "code",
   "execution_count": 38,
   "id": "c64e707f-a32e-4be4-9632-52e5fe1d171d",
   "metadata": {},
   "outputs": [],
   "source": [
    "import pandas as pd\n",
    "import numpy as np\n",
    "import matplotlib.pyplot as plt\n",
    "#import seaborn as sns\n",
    "import tensorflow as tf\n",
    "from tensorflow import keras\n",
    "from pathlib import Path\n",
    "from sklearn.preprocessing import LabelEncoder\n",
    "from sklearn.model_selection import train_test_split;\n",
    "import PIL\n",
    "import cv2\n",
    "import os \n",
    "from sklearn.linear_model import LinearRegression\n",
    "from keras.callbacks import EarlyStopping"
   ]
  },
  {
   "cell_type": "markdown",
   "id": "4f2d1c5a-2e16-4d5f-aeb0-1fea032204ff",
   "metadata": {},
   "source": [
    "IMPORTATION DU DATA SET"
   ]
  },
  {
   "cell_type": "code",
   "execution_count": 2,
   "id": "aa452336-c2c6-4d55-9a84-6563be5e90b8",
   "metadata": {},
   "outputs": [],
   "source": [
    "#train image\n",
    "image_dir = Path('Braille_Dataset')\n",
    "dir_list = list(image_dir.glob('*.jpg'))"
   ]
  },
  {
   "cell_type": "code",
   "execution_count": 3,
   "id": "93d8560f-d16e-4eca-91a6-afe5da6c130e",
   "metadata": {},
   "outputs": [],
   "source": [
    "#test image\n",
    "image_dir_test = Path('Test_Dataset')\n",
    "dir_list_test = list(image_dir_test.glob('*.jpg'))"
   ]
  },
  {
   "cell_type": "markdown",
   "id": "cfb9b761-f26c-4207-9d0a-c2525ffd4fa7",
   "metadata": {},
   "source": [
    "RECUPARATION DES NOM POUR CHAQUE IMAGE"
   ]
  },
  {
   "cell_type": "code",
   "execution_count": 4,
   "id": "39bdd6d7-93c3-4190-bff3-9314e41e04c9",
   "metadata": {
    "tags": []
   },
   "outputs": [],
   "source": [
    "#target train\n",
    "name_list = []\n",
    "for i in dir_list:\n",
    "    name_list.append(os.path.basename(i)[0])"
   ]
  },
  {
   "cell_type": "code",
   "execution_count": 5,
   "id": "394072c3-d024-4104-9e6f-4e487101dcc2",
   "metadata": {},
   "outputs": [],
   "source": [
    "#target test\n",
    "name_list_test = []\n",
    "for i in dir_list_test:\n",
    "    name_list_test.append(os.path.basename(i)[0])"
   ]
  },
  {
   "cell_type": "code",
   "execution_count": 6,
   "id": "1aafeb99-3008-4a1e-acb0-1136eeee2ed4",
   "metadata": {},
   "outputs": [
    {
     "name": "stdout",
     "output_type": "stream",
     "text": [
      "['a', 'a', 'a', 'a', 'a', 'a', 'a', 'a', 'a', 'a', 'a', 'a', 'a', 'a', 'a', 'a', 'a', 'a', 'a', 'a', 'a', 'a', 'a', 'a', 'a', 'a', 'a', 'a', 'a', 'a', 'a', 'a', 'a', 'a', 'a', 'a', 'a', 'a', 'a', 'a', 'a', 'a', 'a', 'a', 'a', 'a', 'a', 'a', 'a', 'a', 'a', 'a', 'a', 'a', 'a', 'a', 'a', 'a', 'a', 'a', 'b', 'b', 'b', 'b', 'b', 'b', 'b', 'b', 'b', 'b', 'b', 'b', 'b', 'b', 'b', 'b', 'b', 'b', 'b', 'b', 'b', 'b', 'b', 'b', 'b', 'b', 'b', 'b', 'b', 'b', 'b', 'b', 'b', 'b', 'b', 'b', 'b', 'b', 'b', 'b', 'b', 'b', 'b', 'b', 'b', 'b', 'b', 'b', 'b', 'b', 'b', 'b', 'b', 'b', 'b', 'b', 'b', 'b', 'b', 'b', 'c', 'c', 'c', 'c', 'c', 'c', 'c', 'c', 'c', 'c', 'c', 'c', 'c', 'c', 'c', 'c', 'c', 'c', 'c', 'c', 'c', 'c', 'c', 'c', 'c', 'c', 'c', 'c', 'c', 'c', 'c', 'c', 'c', 'c', 'c', 'c', 'c', 'c', 'c', 'c', 'c', 'c', 'c', 'c', 'c', 'c', 'c', 'c', 'c', 'c', 'c', 'c', 'c', 'c', 'c', 'c', 'c', 'c', 'c', 'c', 'd', 'd', 'd', 'd', 'd', 'd', 'd', 'd', 'd', 'd', 'd', 'd', 'd', 'd', 'd', 'd', 'd', 'd', 'd', 'd', 'd', 'd', 'd', 'd', 'd', 'd', 'd', 'd', 'd', 'd', 'd', 'd', 'd', 'd', 'd', 'd', 'd', 'd', 'd', 'd', 'd', 'd', 'd', 'd', 'd', 'd', 'd', 'd', 'd', 'd', 'd', 'd', 'd', 'd', 'd', 'd', 'd', 'd', 'd', 'd', 'e', 'e', 'e', 'e', 'e', 'e', 'e', 'e', 'e', 'e', 'e', 'e', 'e', 'e', 'e', 'e', 'e', 'e', 'e', 'e', 'e', 'e', 'e', 'e', 'e', 'e', 'e', 'e', 'e', 'e', 'e', 'e', 'e', 'e', 'e', 'e', 'e', 'e', 'e', 'e', 'e', 'e', 'e', 'e', 'e', 'e', 'e', 'e', 'e', 'e', 'e', 'e', 'e', 'e', 'e', 'e', 'e', 'e', 'e', 'e', 'f', 'f', 'f', 'f', 'f', 'f', 'f', 'f', 'f', 'f', 'f', 'f', 'f', 'f', 'f', 'f', 'f', 'f', 'f', 'f', 'f', 'f', 'f', 'f', 'f', 'f', 'f', 'f', 'f', 'f', 'f', 'f', 'f', 'f', 'f', 'f', 'f', 'f', 'f', 'f', 'f', 'f', 'f', 'f', 'f', 'f', 'f', 'f', 'f', 'f', 'f', 'f', 'f', 'f', 'f', 'f', 'f', 'f', 'f', 'f', 'g', 'g', 'g', 'g', 'g', 'g', 'g', 'g', 'g', 'g', 'g', 'g', 'g', 'g', 'g', 'g', 'g', 'g', 'g', 'g', 'g', 'g', 'g', 'g', 'g', 'g', 'g', 'g', 'g', 'g', 'g', 'g', 'g', 'g', 'g', 'g', 'g', 'g', 'g', 'g', 'g', 'g', 'g', 'g', 'g', 'g', 'g', 'g', 'g', 'g', 'g', 'g', 'g', 'g', 'g', 'g', 'g', 'g', 'g', 'g', 'h', 'h', 'h', 'h', 'h', 'h', 'h', 'h', 'h', 'h', 'h', 'h', 'h', 'h', 'h', 'h', 'h', 'h', 'h', 'h', 'h', 'h', 'h', 'h', 'h', 'h', 'h', 'h', 'h', 'h', 'h', 'h', 'h', 'h', 'h', 'h', 'h', 'h', 'h', 'h', 'h', 'h', 'h', 'h', 'h', 'h', 'h', 'h', 'h', 'h', 'h', 'h', 'h', 'h', 'h', 'h', 'h', 'h', 'h', 'h', 'i', 'i', 'i', 'i', 'i', 'i', 'i', 'i', 'i', 'i', 'i', 'i', 'i', 'i', 'i', 'i', 'i', 'i', 'i', 'i', 'i', 'i', 'i', 'i', 'i', 'i', 'i', 'i', 'i', 'i', 'i', 'i', 'i', 'i', 'i', 'i', 'i', 'i', 'i', 'i', 'i', 'i', 'i', 'i', 'i', 'i', 'i', 'i', 'i', 'i', 'i', 'i', 'i', 'i', 'i', 'i', 'i', 'i', 'i', 'i', 'j', 'j', 'j', 'j', 'j', 'j', 'j', 'j', 'j', 'j', 'j', 'j', 'j', 'j', 'j', 'j', 'j', 'j', 'j', 'j', 'j', 'j', 'j', 'j', 'j', 'j', 'j', 'j', 'j', 'j', 'j', 'j', 'j', 'j', 'j', 'j', 'j', 'j', 'j', 'j', 'j', 'j', 'j', 'j', 'j', 'j', 'j', 'j', 'j', 'j', 'j', 'j', 'j', 'j', 'j', 'j', 'j', 'j', 'j', 'j', 'k', 'k', 'k', 'k', 'k', 'k', 'k', 'k', 'k', 'k', 'k', 'k', 'k', 'k', 'k', 'k', 'k', 'k', 'k', 'k', 'k', 'k', 'k', 'k', 'k', 'k', 'k', 'k', 'k', 'k', 'k', 'k', 'k', 'k', 'k', 'k', 'k', 'k', 'k', 'k', 'k', 'k', 'k', 'k', 'k', 'k', 'k', 'k', 'k', 'k', 'k', 'k', 'k', 'k', 'k', 'k', 'k', 'k', 'k', 'k', 'l', 'l', 'l', 'l', 'l', 'l', 'l', 'l', 'l', 'l', 'l', 'l', 'l', 'l', 'l', 'l', 'l', 'l', 'l', 'l', 'l', 'l', 'l', 'l', 'l', 'l', 'l', 'l', 'l', 'l', 'l', 'l', 'l', 'l', 'l', 'l', 'l', 'l', 'l', 'l', 'l', 'l', 'l', 'l', 'l', 'l', 'l', 'l', 'l', 'l', 'l', 'l', 'l', 'l', 'l', 'l', 'l', 'l', 'l', 'l', 'm', 'm', 'm', 'm', 'm', 'm', 'm', 'm', 'm', 'm', 'm', 'm', 'm', 'm', 'm', 'm', 'm', 'm', 'm', 'm', 'm', 'm', 'm', 'm', 'm', 'm', 'm', 'm', 'm', 'm', 'm', 'm', 'm', 'm', 'm', 'm', 'm', 'm', 'm', 'm', 'm', 'm', 'm', 'm', 'm', 'm', 'm', 'm', 'm', 'm', 'm', 'm', 'm', 'm', 'm', 'm', 'm', 'm', 'm', 'm', 'n', 'n', 'n', 'n', 'n', 'n', 'n', 'n', 'n', 'n', 'n', 'n', 'n', 'n', 'n', 'n', 'n', 'n', 'n', 'n', 'n', 'n', 'n', 'n', 'n', 'n', 'n', 'n', 'n', 'n', 'n', 'n', 'n', 'n', 'n', 'n', 'n', 'n', 'n', 'n', 'n', 'n', 'n', 'n', 'n', 'n', 'n', 'n', 'n', 'n', 'n', 'n', 'n', 'n', 'n', 'n', 'n', 'n', 'n', 'n', 'o', 'o', 'o', 'o', 'o', 'o', 'o', 'o', 'o', 'o', 'o', 'o', 'o', 'o', 'o', 'o', 'o', 'o', 'o', 'o', 'o', 'o', 'o', 'o', 'o', 'o', 'o', 'o', 'o', 'o', 'o', 'o', 'o', 'o', 'o', 'o', 'o', 'o', 'o', 'o', 'o', 'o', 'o', 'o', 'o', 'o', 'o', 'o', 'o', 'o', 'o', 'o', 'o', 'o', 'o', 'o', 'o', 'o', 'o', 'o', 'p', 'p', 'p', 'p', 'p', 'p', 'p', 'p', 'p', 'p', 'p', 'p', 'p', 'p', 'p', 'p', 'p', 'p', 'p', 'p', 'p', 'p', 'p', 'p', 'p', 'p', 'p', 'p', 'p', 'p', 'p', 'p', 'p', 'p', 'p', 'p', 'p', 'p', 'p', 'p', 'p', 'p', 'p', 'p', 'p', 'p', 'p', 'p', 'p', 'p', 'p', 'p', 'p', 'p', 'p', 'p', 'p', 'p', 'p', 'p', 'q', 'q', 'q', 'q', 'q', 'q', 'q', 'q', 'q', 'q', 'q', 'q', 'q', 'q', 'q', 'q', 'q', 'q', 'q', 'q', 'q', 'q', 'q', 'q', 'q', 'q', 'q', 'q', 'q', 'q', 'q', 'q', 'q', 'q', 'q', 'q', 'q', 'q', 'q', 'q', 'q', 'q', 'q', 'q', 'q', 'q', 'q', 'q', 'q', 'q', 'q', 'q', 'q', 'q', 'q', 'q', 'q', 'q', 'q', 'q', 'r', 'r', 'r', 'r', 'r', 'r', 'r', 'r', 'r', 'r', 'r', 'r', 'r', 'r', 'r', 'r', 'r', 'r', 'r', 'r', 'r', 'r', 'r', 'r', 'r', 'r', 'r', 'r', 'r', 'r', 'r', 'r', 'r', 'r', 'r', 'r', 'r', 'r', 'r', 'r', 'r', 'r', 'r', 'r', 'r', 'r', 'r', 'r', 'r', 'r', 'r', 'r', 'r', 'r', 'r', 'r', 'r', 'r', 'r', 'r', 's', 's', 's', 's', 's', 's', 's', 's', 's', 's', 's', 's', 's', 's', 's', 's', 's', 's', 's', 's', 's', 's', 's', 's', 's', 's', 's', 's', 's', 's', 's', 's', 's', 's', 's', 's', 's', 's', 's', 's', 's', 's', 's', 's', 's', 's', 's', 's', 's', 's', 's', 's', 's', 's', 's', 's', 's', 's', 's', 's', 't', 't', 't', 't', 't', 't', 't', 't', 't', 't', 't', 't', 't', 't', 't', 't', 't', 't', 't', 't', 't', 't', 't', 't', 't', 't', 't', 't', 't', 't', 't', 't', 't', 't', 't', 't', 't', 't', 't', 't', 't', 't', 't', 't', 't', 't', 't', 't', 't', 't', 't', 't', 't', 't', 't', 't', 't', 't', 't', 't', 'u', 'u', 'u', 'u', 'u', 'u', 'u', 'u', 'u', 'u', 'u', 'u', 'u', 'u', 'u', 'u', 'u', 'u', 'u', 'u', 'u', 'u', 'u', 'u', 'u', 'u', 'u', 'u', 'u', 'u', 'u', 'u', 'u', 'u', 'u', 'u', 'u', 'u', 'u', 'u', 'u', 'u', 'u', 'u', 'u', 'u', 'u', 'u', 'u', 'u', 'u', 'u', 'u', 'u', 'u', 'u', 'u', 'u', 'u', 'u', 'v', 'v', 'v', 'v', 'v', 'v', 'v', 'v', 'v', 'v', 'v', 'v', 'v', 'v', 'v', 'v', 'v', 'v', 'v', 'v', 'v', 'v', 'v', 'v', 'v', 'v', 'v', 'v', 'v', 'v', 'v', 'v', 'v', 'v', 'v', 'v', 'v', 'v', 'v', 'v', 'v', 'v', 'v', 'v', 'v', 'v', 'v', 'v', 'v', 'v', 'v', 'v', 'v', 'v', 'v', 'v', 'v', 'v', 'v', 'v', 'w', 'w', 'w', 'w', 'w', 'w', 'w', 'w', 'w', 'w', 'w', 'w', 'w', 'w', 'w', 'w', 'w', 'w', 'w', 'w', 'w', 'w', 'w', 'w', 'w', 'w', 'w', 'w', 'w', 'w', 'w', 'w', 'w', 'w', 'w', 'w', 'w', 'w', 'w', 'w', 'w', 'w', 'w', 'w', 'w', 'w', 'w', 'w', 'w', 'w', 'w', 'w', 'w', 'w', 'w', 'w', 'w', 'w', 'w', 'w', 'x', 'x', 'x', 'x', 'x', 'x', 'x', 'x', 'x', 'x', 'x', 'x', 'x', 'x', 'x', 'x', 'x', 'x', 'x', 'x', 'x', 'x', 'x', 'x', 'x', 'x', 'x', 'x', 'x', 'x', 'x', 'x', 'x', 'x', 'x', 'x', 'x', 'x', 'x', 'x', 'x', 'x', 'x', 'x', 'x', 'x', 'x', 'x', 'x', 'x', 'x', 'x', 'x', 'x', 'x', 'x', 'x', 'x', 'x', 'x', 'y', 'y', 'y', 'y', 'y', 'y', 'y', 'y', 'y', 'y', 'y', 'y', 'y', 'y', 'y', 'y', 'y', 'y', 'y', 'y', 'y', 'y', 'y', 'y', 'y', 'y', 'y', 'y', 'y', 'y', 'y', 'y', 'y', 'y', 'y', 'y', 'y', 'y', 'y', 'y', 'y', 'y', 'y', 'y', 'y', 'y', 'y', 'y', 'y', 'y', 'y', 'y', 'y', 'y', 'y', 'y', 'y', 'y', 'y', 'y', 'z', 'z', 'z', 'z', 'z', 'z', 'z', 'z', 'z', 'z', 'z', 'z', 'z', 'z', 'z', 'z', 'z', 'z', 'z', 'z', 'z', 'z', 'z', 'z', 'z', 'z', 'z', 'z', 'z', 'z', 'z', 'z', 'z', 'z', 'z', 'z', 'z', 'z', 'z', 'z', 'z', 'z', 'z', 'z', 'z', 'z', 'z', 'z', 'z', 'z', 'z', 'z', 'z', 'z', 'z', 'z', 'z', 'z', 'z', 'z']\n"
     ]
    }
   ],
   "source": [
    "print(name_list)"
   ]
  },
  {
   "cell_type": "code",
   "execution_count": 7,
   "id": "73b97217-eb3a-4481-8203-7b27cda62d99",
   "metadata": {},
   "outputs": [],
   "source": [
    "#open image and puts into a list\n",
    "images = []\n",
    "for dir in dir_list:\n",
    "    I = cv2.imread(str(dir))\n",
    "    img1 = cv2.cvtColor(I, cv2.COLOR_BGR2GRAY)\n",
    "    images.append(img1)"
   ]
  },
  {
   "cell_type": "code",
   "execution_count": 8,
   "id": "eef5cab1-4513-4836-91fa-b3bdef99c827",
   "metadata": {},
   "outputs": [],
   "source": [
    "#for the test\n",
    "images_test = []\n",
    "for dir in dir_list_test:\n",
    "    T = cv2.imread(str(dir))\n",
    "    img2 = cv2.cvtColor(T, cv2.COLOR_BGR2GRAY)\n",
    "    images_test.append(img2)"
   ]
  },
  {
   "cell_type": "code",
   "execution_count": 9,
   "id": "174d8fde-4830-4516-aa57-1287f2ace5b1",
   "metadata": {},
   "outputs": [],
   "source": [
    "#train image and target train image\n",
    "images_list = np.array(images)\n",
    "name_list = np.array(name_list).T"
   ]
  },
  {
   "cell_type": "code",
   "execution_count": 10,
   "id": "8014dc2c-ce35-48c0-a78f-ab784d61ed51",
   "metadata": {},
   "outputs": [
    {
     "name": "stdout",
     "output_type": "stream",
     "text": [
      "['a' 'a' 'a' ... 'z' 'z' 'z']\n"
     ]
    }
   ],
   "source": [
    "print(name_list)"
   ]
  },
  {
   "cell_type": "code",
   "execution_count": 11,
   "id": "45d37052-3e5b-4914-b0ac-eec6974405af",
   "metadata": {},
   "outputs": [],
   "source": [
    "#test image and target test image\n",
    "images_list_test = np.array(images_test)\n",
    "name_list_test = np.array(name_list_test).T"
   ]
  },
  {
   "cell_type": "code",
   "execution_count": 12,
   "id": "6373e51c-0080-4720-b27c-33c3d657da46",
   "metadata": {},
   "outputs": [
    {
     "name": "stdout",
     "output_type": "stream",
     "text": [
      "['a' 'a' 'a' 'a' 'a' 'b' 'b' 'b' 'b' 'b' 'c' 'c' 'c' 'c' 'c' 'd' 'd' 'd'\n",
      " 'd' 'd' 'e' 'e' 'e' 'e' 'e' 'f' 'f' 'f' 'f' 'f' 'g' 'g' 'g' 'g' 'g' 'h'\n",
      " 'h' 'h' 'h' 'h' 'i' 'i' 'i' 'i' 'i' 'j' 'j' 'j' 'j' 'j' 'k' 'k' 'k' 'k'\n",
      " 'k' 'l' 'l' 'l' 'l' 'l' 'm' 'm' 'm' 'm' 'm' 'n' 'n' 'n' 'n' 'n' 'o' 'o'\n",
      " 'o' 'o' 'o' 'p' 'p' 'p' 'p' 'p' 'q' 'q' 'q' 'q' 'q' 'r' 'r' 'r' 'r' 'r'\n",
      " 's' 's' 's' 's' 's' 't' 't' 't' 't' 't' 'u' 'u' 'u' 'u' 'u' 'v' 'v' 'v'\n",
      " 'v' 'v' 'w' 'w' 'w' 'w' 'w' 'x' 'x' 'x' 'x' 'x' 'y' 'y' 'y' 'y' 'y' 'z'\n",
      " 'z' 'z' 'z' 'z']\n"
     ]
    }
   ],
   "source": [
    "print(name_list_test)"
   ]
  },
  {
   "cell_type": "markdown",
   "id": "1d1fa700-d2d3-46f7-962a-4b2dff363fdf",
   "metadata": {
    "tags": []
   },
   "source": [
    "#"
   ]
  },
  {
   "cell_type": "code",
   "execution_count": 13,
   "id": "591c8900-7b65-431c-92a9-d37b4ba7cb09",
   "metadata": {},
   "outputs": [
    {
     "name": "stdout",
     "output_type": "stream",
     "text": [
      "(1560, 28, 28)\n",
      "(1560,)\n"
     ]
    }
   ],
   "source": [
    "print(images_list.shape)\n",
    "print(name_list.shape)"
   ]
  },
  {
   "cell_type": "code",
   "execution_count": 14,
   "id": "0f1a7f82-c269-4d17-9bf0-e271d1faeb96",
   "metadata": {},
   "outputs": [
    {
     "name": "stdout",
     "output_type": "stream",
     "text": [
      "(130, 28, 28)\n",
      "(130,)\n"
     ]
    }
   ],
   "source": [
    "print(images_list_test.shape)\n",
    "print(name_list_test.shape)"
   ]
  },
  {
   "cell_type": "code",
   "execution_count": 15,
   "id": "cd87a224-e4f2-4865-8d5a-d4c13a8757f5",
   "metadata": {},
   "outputs": [],
   "source": [
    "le = LabelEncoder()\n",
    "name_list = le.fit_transform(name_list)\n",
    "name_list_test = le.fit_transform(name_list)"
   ]
  },
  {
   "cell_type": "code",
   "execution_count": 16,
   "id": "d2700470-eedf-43d7-84c2-386c3fa5e4bf",
   "metadata": {},
   "outputs": [
    {
     "name": "stdout",
     "output_type": "stream",
     "text": [
      "[ 0  0  0 ... 25 25 25]\n",
      "[ 0  0  0 ... 25 25 25]\n"
     ]
    }
   ],
   "source": [
    "print(name_list)\n",
    "print(name_list_test)"
   ]
  },
  {
   "cell_type": "code",
   "execution_count": 17,
   "id": "e62f42a2-6ce6-498a-8fae-607df2183209",
   "metadata": {},
   "outputs": [
    {
     "data": {
      "image/png": "[encoded data removed]",
      "text/plain": [
       "<Figure size 432x288 with 2 Axes>"
      ]
     },
     "metadata": {
      "needs_background": "light"
     },
     "output_type": "display_data"
    }
   ],
   "source": [
    "plt.figure()\n",
    "plt.imshow(images_list[129])\n",
    "plt.colorbar()\n",
    "plt.grid(False)"
   ]
  },
  {
   "cell_type": "code",
   "execution_count": 18,
   "id": "ecd14a7a-5838-44e6-a1a0-171cc0ed7f5b",
   "metadata": {},
   "outputs": [],
   "source": [
    "classe_nomLettre = ['A','B','C','D','E','F','G',\n",
    "                    'H','I','J','K','L','M','N',\n",
    "                    'O','P','Q','R','S','T','U',\n",
    "                    'V','W','X','Y','Z']"
   ]
  },
  {
   "cell_type": "code",
   "execution_count": 19,
   "id": "1a0305a0-7607-4254-bd5c-30fda7218cc6",
   "metadata": {},
   "outputs": [
    {
     "data": {
      "image/png": "[encoded data removed]",
      "text/plain": [
       "<Figure size 432x288 with 1 Axes>"
      ]
     },
     "metadata": {},
     "output_type": "display_data"
    }
   ],
   "source": [
    "labels = classe_nomLettre\n",
    "sizes = np.unique(name_list,return_counts=True)[1]\n",
    "#\n",
    "colors =['#fff100','#ff8c00','#e81123','#ec008c','#68217a','#00188f',\n",
    "         '#00bcf2','#00b294','#009e49','#bad80a','#e81123','#5A6EB7',\n",
    "         '#0B3D12','#CE80AB','#DCD893','#e89523','#282A28','#21D69F',\n",
    "         '#D0D621','#7D7E56','#FF025E','#1FFE00','#FE1700','#21D6D0',\n",
    "         '#e81123','#3B2FFB']\n",
    "#\n",
    "#\n",
    "fig1, ax1 = plt.subplots()\n",
    "ax1.pie(sizes, colors = colors, labels=labels, autopct='%1.1f%%', startangle=90)\n",
    "#\n",
    "centre_circle = plt.Circle((0,0),0.70,fc='white')\n",
    "fig = plt.gcf()\n",
    "fig.gca().add_artist(centre_circle)\n",
    "#\n",
    "ax1.axis('equal')  \n",
    "plt.tight_layout()\n",
    "plt.show()"
   ]
  },
  {
   "cell_type": "markdown",
   "id": "64b899d7-1858-432c-adcf-47de72fa2db2",
   "metadata": {},
   "source": [
    "## CREATION DU  MODEL"
   ]
  },
  {
   "cell_type": "code",
   "execution_count": 20,
   "id": "15d2b80f-13ad-4dcb-a158-1298717ec1bd",
   "metadata": {},
   "outputs": [],
   "source": [
    "#convert to float\n",
    "images_list = images_list.astype(float)\n",
    "images_list_test = images_list_test.astype(float)"
   ]
  },
  {
   "cell_type": "code",
   "execution_count": 21,
   "id": "6b531fa0-475b-4b81-80ec-f0e4b04e6e1b",
   "metadata": {},
   "outputs": [],
   "source": [
    "#on normalise les pixels pour avoir des valeur entre 0 et 1\n",
    "images_list = images_list/255\n",
    "images_list_test = images_list_test/255"
   ]
  },
  {
   "cell_type": "markdown",
   "id": "11f3bf66-711c-4bc7-a196-32f9f783216f",
   "metadata": {},
   "source": [
    "###"
   ]
  },
  {
   "cell_type": "code",
   "execution_count": 22,
   "id": "86bc373a-f18f-44b8-8a93-1948f9904627",
   "metadata": {},
   "outputs": [],
   "source": [
    "#creation du model sequentiel\n",
    "\n",
    "model = tf.keras.models.Sequential()"
   ]
  },
  {
   "cell_type": "code",
   "execution_count": 23,
   "id": "40b5f05f-1a23-4478-82b9-4b532dc02176",
   "metadata": {},
   "outputs": [],
   "source": [
    "#une premier couche qui va convertir la matrice en vecteur\n",
    "\n",
    "model.add(tf.keras.layers.Flatten(input_shape=[28,28]))"
   ]
  },
  {
   "cell_type": "code",
   "execution_count": 24,
   "id": "46ade1ae-18b6-49e6-b995-a489f800611a",
   "metadata": {},
   "outputs": [],
   "source": [
    "#les couches cache\n",
    "model.add(tf.keras.layers.Dense(254, activation=\"relu\"))\n",
    "model.add(tf.keras.layers.Dense(128, activation=\"relu\"))\n",
    "#couche de sortie\n",
    "model.add(tf.keras.layers.Dense(26, activation=\"softmax\"))"
   ]
  },
  {
   "cell_type": "code",
   "execution_count": 25,
   "id": "be0dfd93-5fe4-49b6-84cf-9606f5434045",
   "metadata": {},
   "outputs": [
    {
     "name": "stdout",
     "output_type": "stream",
     "text": [
      "Model: \"sequential\"\n",
      "_________________________________________________________________\n",
      " Layer (type)                Output Shape              Param #   \n",
      "=================================================================\n",
      " flatten (Flatten)           (None, 784)               0         \n",
      "                                                                 \n",
      " dense (Dense)               (None, 254)               199390    \n",
      "                                                                 \n",
      " dense_1 (Dense)             (None, 128)               32640     \n",
      "                                                                 \n",
      " dense_2 (Dense)             (None, 26)                3354      \n",
      "                                                                 \n",
      "=================================================================\n",
      "Total params: 235,384\n",
      "Trainable params: 235,384\n",
      "Non-trainable params: 0\n",
      "_________________________________________________________________\n"
     ]
    }
   ],
   "source": [
    "model.summary()"
   ]
  },
  {
   "cell_type": "code",
   "execution_count": 26,
   "id": "01e1f635-fd2f-47ab-a90c-2b2baec4ecdc",
   "metadata": {},
   "outputs": [],
   "source": [
    "#compiler le model\n",
    "model.compile(\n",
    "    loss=tf.keras.losses.SparseCategoricalCrossentropy(from_logits=True),\n",
    "    optimizer=\"adam\",\n",
    "    metrics=[\"accuracy\"]\n",
    ")"
   ]
  },
  {
   "cell_type": "code",
   "execution_count": 27,
   "id": "20f46df3-cea7-4e50-95a6-27fd4e558b0c",
   "metadata": {},
   "outputs": [
    {
     "name": "stdout",
     "output_type": "stream",
     "text": [
      "Epoch 1/20\n"
     ]
    },
    {
     "name": "stderr",
     "output_type": "stream",
     "text": [
      "C:\\Users\\Ntumbabu\\AppData\\Local\\Programs\\Python\\Python39\\lib\\site-packages\\tensorflow\\python\\util\\dispatch.py:1082: UserWarning: \"`sparse_categorical_crossentropy` received `from_logits=True`, but the `output` argument was produced by a sigmoid or softmax activation and thus does not represent logits. Was this intended?\"\n",
      "  return dispatch_target(*args, **kwargs)\n"
     ]
    },
    {
     "name": "stdout",
     "output_type": "stream",
     "text": [
      "39/39 [==============================] - 2s 12ms/step - loss: 3.1726 - accuracy: 0.0665 - val_loss: 6.2924 - val_accuracy: 0.0000e+00\n",
      "Epoch 2/20\n",
      "39/39 [==============================] - 0s 5ms/step - loss: 3.0254 - accuracy: 0.0889 - val_loss: 6.3290 - val_accuracy: 0.0000e+00\n",
      "Epoch 3/20\n",
      "39/39 [==============================] - 0s 6ms/step - loss: 2.9354 - accuracy: 0.1546 - val_loss: 7.5200 - val_accuracy: 0.0000e+00\n",
      "Epoch 4/20\n",
      "39/39 [==============================] - 0s 5ms/step - loss: 2.8057 - accuracy: 0.1867 - val_loss: 7.6375 - val_accuracy: 0.0000e+00\n",
      "Epoch 5/20\n",
      "39/39 [==============================] - 0s 5ms/step - loss: 2.6360 - accuracy: 0.2596 - val_loss: 8.8810 - val_accuracy: 0.0000e+00\n",
      "Epoch 6/20\n",
      "39/39 [==============================] - 0s 6ms/step - loss: 2.4708 - accuracy: 0.2845 - val_loss: 9.1377 - val_accuracy: 0.0000e+00\n",
      "Epoch 7/20\n",
      "39/39 [==============================] - 0s 5ms/step - loss: 2.3270 - accuracy: 0.3518 - val_loss: 9.8224 - val_accuracy: 0.0000e+00\n",
      "Epoch 8/20\n",
      "39/39 [==============================] - 0s 6ms/step - loss: 2.2024 - accuracy: 0.3822 - val_loss: 11.4191 - val_accuracy: 0.0128\n",
      "Epoch 9/20\n",
      "39/39 [==============================] - 0s 5ms/step - loss: 1.9927 - accuracy: 0.4728 - val_loss: 11.9199 - val_accuracy: 0.0192\n",
      "Epoch 10/20\n",
      "39/39 [==============================] - 0s 5ms/step - loss: 1.8678 - accuracy: 0.5040 - val_loss: 12.1137 - val_accuracy: 0.0128\n",
      "Epoch 11/20\n",
      "39/39 [==============================] - 0s 6ms/step - loss: 1.6874 - accuracy: 0.5841 - val_loss: 12.8428 - val_accuracy: 0.0224\n",
      "Epoch 12/20\n",
      "39/39 [==============================] - 0s 6ms/step - loss: 1.6210 - accuracy: 0.5825 - val_loss: 13.6357 - val_accuracy: 0.0256\n",
      "Epoch 13/20\n",
      "39/39 [==============================] - 0s 6ms/step - loss: 1.5669 - accuracy: 0.5986 - val_loss: 13.6134 - val_accuracy: 0.0032\n",
      "Epoch 14/20\n",
      "39/39 [==============================] - 0s 6ms/step - loss: 1.4475 - accuracy: 0.6306 - val_loss: 14.3456 - val_accuracy: 0.0288\n",
      "Epoch 15/20\n",
      "39/39 [==============================] - 0s 6ms/step - loss: 1.4245 - accuracy: 0.6354 - val_loss: 14.1756 - val_accuracy: 0.0192\n",
      "Epoch 16/20\n",
      "39/39 [==============================] - 0s 6ms/step - loss: 1.3541 - accuracy: 0.6426 - val_loss: 14.9231 - val_accuracy: 0.0192\n",
      "Epoch 17/20\n",
      "39/39 [==============================] - 0s 7ms/step - loss: 1.3182 - accuracy: 0.6595 - val_loss: 15.6362 - val_accuracy: 0.0256\n",
      "Epoch 18/20\n",
      "39/39 [==============================] - 0s 7ms/step - loss: 1.3726 - accuracy: 0.6322 - val_loss: 15.0631 - val_accuracy: 0.0224\n",
      "Epoch 19/20\n",
      "39/39 [==============================] - 0s 7ms/step - loss: 1.2740 - accuracy: 0.6562 - val_loss: 15.7590 - val_accuracy: 0.0192\n",
      "Epoch 20/20\n",
      "39/39 [==============================] - 0s 6ms/step - loss: 1.2156 - accuracy: 0.6707 - val_loss: 15.5141 - val_accuracy: 0.0256\n"
     ]
    }
   ],
   "source": [
    "#entrainement du reseaux avec le model\n",
    "history = model.fit(\n",
    "    images_list, name_list,\n",
    "    epochs=20,\n",
    "    validation_split=0.2\n",
    ")"
   ]
  },
  {
   "cell_type": "markdown",
   "id": "191f2876-b8c3-423e-a587-bc94c43338ee",
   "metadata": {},
   "source": [
    "# TESTER LES RESULTATS"
   ]
  },
  {
   "cell_type": "code",
   "execution_count": 28,
   "id": "c409d52e-0751-4c13-a738-9292aac39946",
   "metadata": {},
   "outputs": [
    {
     "name": "stdout",
     "output_type": "stream",
     "text": [
      "dict_keys(['loss', 'accuracy', 'val_loss', 'val_accuracy'])\n"
     ]
    }
   ],
   "source": [
    "history_dict = history.history\n",
    "print(history_dict.keys())"
   ]
  },
  {
   "cell_type": "code",
   "execution_count": 29,
   "id": "385acc93-5543-4624-bfbc-61842bc0dae0",
   "metadata": {},
   "outputs": [],
   "source": [
    "loss_curve = history.history['loss']\n",
    "acc_curve = history.history['accuracy']\n"
   ]
  },
  {
   "cell_type": "code",
   "execution_count": 30,
   "id": "58d6f428-1e1c-4f73-8336-4216904a1335",
   "metadata": {},
   "outputs": [],
   "source": [
    "loss_val_curve = history.history['val_loss']\n",
    "acc_val_curve = history.history['val_accuracy']\n",
    "\n"
   ]
  },
  {
   "cell_type": "code",
   "execution_count": 31,
   "id": "0ded5836-883c-402a-b8ff-c807c5c38d6d",
   "metadata": {},
   "outputs": [
    {
     "data": {
      "image/png": "[encoded data removed]",
      "text/plain": [
       "<Figure size 432x288 with 1 Axes>"
      ]
     },
     "metadata": {
      "needs_background": "light"
     },
     "output_type": "display_data"
    },
    {
     "data": {
      "image/png": "[encoded data removed]",
      "text/plain": [
       "<Figure size 432x288 with 1 Axes>"
      ]
     },
     "metadata": {
      "needs_background": "light"
     },
     "output_type": "display_data"
    }
   ],
   "source": [
    "plt.plot(acc_curve, label=\"Train\")\n",
    "plt.plot(acc_val_curve, label=\"Val\")\n",
    "plt.legend(loc='upper left')\n",
    "plt.title(\"Accuracy\")\n",
    "plt.show()\n",
    "\n",
    "plt.plot(loss_curve, label=\"Train\")\n",
    "plt.plot(loss_val_curve, label=\"Val\")\n",
    "plt.legend(loc='upper left')\n",
    "plt.title(\"Loss\")\n",
    "plt.show()"
   ]
  },
  {
   "cell_type": "markdown",
   "id": "1ca12be5-9d23-4982-9bf6-37457a55dbfa",
   "metadata": {
    "tags": []
   },
   "source": [
    "## APERCU"
   ]
  },
  {
   "cell_type": "code",
   "execution_count": 32,
   "id": "ef117d4a-e4cd-4f23-8a02-00f32476b3ae",
   "metadata": {},
   "outputs": [],
   "source": [
    "probability_model = tf.keras.Sequential([model, tf.keras.layers.Softmax()])"
   ]
  },
  {
   "cell_type": "code",
   "execution_count": 33,
   "id": "39a9e37e-29f5-4a1a-8729-bd075866a1b1",
   "metadata": {},
   "outputs": [
    {
     "name": "stdout",
     "output_type": "stream",
     "text": [
      "5/5 [==============================] - 0s 3ms/step\n"
     ]
    },
    {
     "data": {
      "text/plain": [
       "array([0.05920317, 0.03812085, 0.04442893, 0.03708051, 0.03753348,\n",
       "       0.03692084, 0.03700544, 0.03684895, 0.03685011, 0.03681578,\n",
       "       0.0410156 , 0.03684083, 0.03715151, 0.03942916, 0.03785427,\n",
       "       0.0369005 , 0.03699797, 0.03688823, 0.03684148, 0.03681706,\n",
       "       0.03837803, 0.03681546, 0.03681546, 0.03681549, 0.0368155 ,\n",
       "       0.03681547], dtype=float32)"
      ]
     },
     "execution_count": 33,
     "metadata": {},
     "output_type": "execute_result"
    }
   ],
   "source": [
    "predictions = probability_model.predict(images_list_test)\n",
    "predictions[0]"
   ]
  },
  {
   "cell_type": "code",
   "execution_count": 34,
   "id": "6d00bd31-6d75-4fc8-bd02-e359f8133e79",
   "metadata": {},
   "outputs": [
    {
     "data": {
      "text/plain": [
       "0"
      ]
     },
     "execution_count": 34,
     "metadata": {},
     "output_type": "execute_result"
    }
   ],
   "source": [
    "np.argmax(predictions[0])"
   ]
  },
  {
   "cell_type": "code",
   "execution_count": 35,
   "id": "fdd2ffea-1b7c-4c36-8fad-932a7701945a",
   "metadata": {},
   "outputs": [],
   "source": [
    "def plot_image(i, predictions_array, true_label, img):\n",
    "    \n",
    "  true_label = true_label[i]\n",
    "  img = img[i]\n",
    "  plt.grid(False)\n",
    "  plt.xticks([])\n",
    "  plt.yticks([])\n",
    "\n",
    "  plt.imshow(img, cmap=plt.cm.binary)\n",
    "\n",
    "  predicted_label = np.argmax(predictions_array)\n",
    "  if predicted_label == true_label:\n",
    "    color = 'blue'\n",
    "  else:\n",
    "    color = 'red'\n",
    "  plt.xlabel(\"{} {:2.0f}% ({})\".format(name_list_test[predicted_label],\n",
    "                                100*np.max(predictions_array),\n",
    "                                classe_nomLettre[true_label]),\n",
    "                                color=color)"
   ]
  },
  {
   "cell_type": "code",
   "execution_count": 36,
   "id": "87b23c08-f5e4-470c-9eef-ff35634c4591",
   "metadata": {},
   "outputs": [],
   "source": [
    "def plot_value_array(i, predictions_array, true_label):\n",
    "    \n",
    "  true_label = true_label[i]\n",
    "  plt.grid(False)\n",
    "  plt.xticks(range(26))\n",
    "  plt.yticks([])\n",
    "  thisplot = plt.bar(range(26), predictions_array,color=\"#777777\")\n",
    "  plt.ylim([0, 1])\n",
    "  predicted_label = np.argmax(predictions_array)\n",
    "\n",
    "  thisplot[predicted_label].set_color('red')\n",
    "  thisplot[true_label].set_color('blue')"
   ]
  },
  {
   "cell_type": "code",
   "execution_count": 37,
   "id": "f13e500b-cb50-46bc-9487-2ddcf3de14cc",
   "metadata": {},
   "outputs": [
    {
     "data": {
      "image/png": "[encoded data removed]",
      "text/plain": [
       "<Figure size 1440x360 with 2 Axes>"
      ]
     },
     "metadata": {
      "needs_background": "light"
     },
     "output_type": "display_data"
    }
   ],
   "source": [
    "i = 5\n",
    "plt.figure(figsize=(20,5))\n",
    "##\n",
    "plt.subplot(1,2,1)\n",
    "plot_image(i, predictions[i], name_list_test, images_list_test)\n",
    "##\n",
    "plt.subplot(1,2,2)\n",
    "plot_value_array(i, predictions[i],  name_list_test)\n",
    "##\n",
    "plt.show()"
   ]
  },
  {
   "cell_type": "code",
   "execution_count": null,
   "id": "66795de8-2f95-4a85-983c-18797d6b054e",
   "metadata": {},
   "outputs": [],
   "source": []
  }
 ],
 "metadata": {
  "kernelspec": {
   "display_name": "Python 3 (ipykernel)",
   "language": "python",
   "name": "python3"
  },
  "language_info": {
   "codemirror_mode": {
    "name": "ipython",
    "version": 3
   },
   "file_extension": ".py",
   "mimetype": "text/x-python",
   "name": "python",
   "nbconvert_exporter": "python",
   "pygments_lexer": "ipython3",
   "version": "3.9.8"
  }
 },
 "nbformat": 4,
 "nbformat_minor": 5
}
